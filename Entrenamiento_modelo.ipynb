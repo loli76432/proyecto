{
 "cells": [
  {
   "cell_type": "markdown",
   "id": "d7d05c1c",
   "metadata": {},
   "source": [
    "## F:\\00_xvxml_SMano_usb\\Scripts\\Proceso_xml_2.ipynb "
   ]
  },
  {
   "cell_type": "code",
   "execution_count": null,
   "id": "e2b18845",
   "metadata": {},
   "outputs": [],
   "source": []
  },
  {
   "cell_type": "code",
   "execution_count": 1,
   "metadata": {},
   "outputs": [],
   "source": [
    "import pandas as pd"
   ]
  },
  {
   "cell_type": "code",
   "execution_count": 2,
   "id": "76670634",
   "metadata": {},
   "outputs": [
    {
     "ename": "NameError",
     "evalue": "name 'df' is not defined",
     "output_type": "error",
     "traceback": [
      "\u001b[1;31m---------------------------------------------------------------------------\u001b[0m",
      "\u001b[1;31mNameError\u001b[0m                                 Traceback (most recent call last)",
      "Cell \u001b[1;32mIn[2], line 1\u001b[0m\n\u001b[1;32m----> 1\u001b[0m df\u001b[38;5;241m.\u001b[39mhead(\u001b[38;5;241m5\u001b[39m)\n\u001b[0;32m      2\u001b[0m df\u001b[38;5;241m.\u001b[39mcolumns\n\u001b[0;32m      3\u001b[0m df[\u001b[38;5;124m'\u001b[39m\u001b[38;5;124mPrecio\u001b[39m\u001b[38;5;124m'\u001b[39m]\n",
      "\u001b[1;31mNameError\u001b[0m: name 'df' is not defined"
     ]
    }
   ],
   "source": [
    "df.head(5)\n",
    "df.columns\n",
    "df['Precio']\n"
   ]
  },
  {
   "cell_type": "code",
   "execution_count": null,
   "id": "5917472d",
   "metadata": {},
   "outputs": [],
   "source": [
    "from sklearn.ensemble import RandomForestRegressor\n",
    "from sklearn.model_selection import train_test_split\n",
    "from sklearn.preprocessing import OneHotEncoder\n",
    "from sklearn.compose import ColumnTransformer\n",
    "from sklearn.pipeline import Pipeline\n",
    "\n",
    "# Features relevantes\n",
    "features = ['Título','Imagen', 'marca', 'marca_categoria',\n",
    "       'marca_caracteristicas', 'marca_confianza', 'marca_alternativas']\n",
    "target = 'Precio'\n",
    "\n",
    "# Codificación simple de categóricas\n",
    "preprocessor = ColumnTransformer(transformers=[\n",
    "    ('cat', OneHotEncoder(handle_unknown='ignore'), features)\n",
    "])\n",
    "\n",
    "model = Pipeline(steps=[\n",
    "    ('preprocessor', preprocessor),\n",
    "    ('regressor', RandomForestRegressor())\n",
    "])\n",
    "\n",
    "X = df[features]\n",
    "y = df[target]\n",
    "\n",
    "X_train, X_test, y_train, y_test = train_test_split(X, y, test_size=0.2)\n",
    "model.fit(X_train, y_train)\n"
   ]
  },
  {
   "cell_type": "code",
   "execution_count": null,
   "id": "4dc353a7",
   "metadata": {},
   "outputs": [],
   "source": [
    "from sklearn.metrics import mean_absolute_error, mean_squared_error, r2_score\n",
    "import numpy as np\n",
    "\n",
    "y_pred = model.predict(X_test)\n",
    "\n",
    "mae = mean_absolute_error(y_test, y_pred)\n",
    "rmse = np.sqrt(mean_squared_error(y_test, y_pred))\n",
    "r2 = r2_score(y_test, y_pred)\n",
    "\n",
    "print(f\"MAE: {mae:.2f}\")\n",
    "print(f\"RMSE: {rmse:.2f}\")\n",
    "print(f\"R²: {r2:.2f}\")\n"
   ]
  },
  {
   "cell_type": "code",
   "execution_count": null,
   "id": "e3950a18",
   "metadata": {},
   "outputs": [],
   "source": [
    "import plotly.graph_objects as go\n",
    "\n",
    "fig = go.Figure()\n",
    "\n",
    "fig.add_trace(go.Scatter(x=y_test, y=y_pred, mode='markers', name='Predicciones',\n",
    "                         marker=dict(color='blue', size=6)))\n",
    "\n",
    "fig.add_trace(go.Scatter(x=y_test, y=y_test, mode='lines', name='Ideal',\n",
    "                         line=dict(color='green', dash='dash')))\n",
    "\n",
    "fig.update_layout(title='Predicción de precios: Valor real vs Predicho',\n",
    "                  xaxis_title='Precio real',\n",
    "                  yaxis_title='Precio predicho',\n",
    "                  template='plotly_white',\n",
    "                  width=800, height=500)\n",
    "\n",
    "fig.show()\n"
   ]
  },
  {
   "cell_type": "markdown",
   "id": "9fcb9364",
   "metadata": {},
   "source": [
    "'marca_categoria'"
   ]
  },
  {
   "cell_type": "code",
   "execution_count": null,
   "metadata": {},
   "outputs": [],
   "source": [
    "import plotly.express as px\n",
    "\n",
    "# Precio medio por categoría\n",
    "df_grouped = df.groupby('marca_categoria')['Precio'].mean().reset_index()\n",
    "\n",
    "# Gráfico de barras\n",
    "fig = px.bar(df_grouped, x='marca_categoria', y='Precio',\n",
    "             title='💸 Precio medio por categoría',\n",
    "             labels={'Precio': 'Precio medio (EUR)', 'Categorías': 'Categoría'},\n",
    "             color='Precio',\n",
    "             template='plotly_white')\n",
    "\n",
    "fig.update_layout(xaxis_tickangle=-45)\n",
    "fig.show()\n"
   ]
  },
  {
   "cell_type": "code",
   "execution_count": null,
   "id": "9a294503",
   "metadata": {},
   "outputs": [],
   "source": [
    "import joblib\n",
    "joblib.dump(model, \"modelo_precio1.pkl\")\n",
    "\n",
    "modelo_cargado = joblib.load(\"modelo_precio1.pkl\")\n"
   ]
  }
 ],
 "metadata": {
  "kernelspec": {
   "display_name": "base",
   "language": "python",
   "name": "python3"
  },
  "language_info": {
   "codemirror_mode": {
    "name": "ipython",
    "version": 3
   },
   "file_extension": ".py",
   "mimetype": "text/x-python",
   "name": "python",
   "nbconvert_exporter": "python",
   "pygments_lexer": "ipython3",
   "version": "3.12.7"
  }
 },
 "nbformat": 4,
 "nbformat_minor": 5
}
