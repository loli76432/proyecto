{
 "cells": [
  {
   "cell_type": "code",
   "execution_count": null,
   "id": "34dc2f15",
   "metadata": {},
   "outputs": [],
   "source": []
  },
  {
   "cell_type": "code",
   "execution_count": null,
   "id": "039af37b",
   "metadata": {},
   "outputs": [],
   "source": [
    "%pip install pyautogui\n",
    "\n",
    "import subprocess\n",
    "import pyautogui\n",
    "import time\n"
   ]
  },
  {
   "cell_type": "markdown",
   "id": "1ce65973",
   "metadata": {},
   "source": [
    "###         `       *** Scrapeo ***     `"
   ]
  },
  {
   "cell_type": "code",
   "execution_count": null,
   "id": "a8fe1989",
   "metadata": {},
   "outputs": [],
   "source": [
    "\n",
    "# Ejecutar el script\n",
    "# subprocess.run([\"python\", r\"F:\\00Proyecto_final\\Scripts\\scraping-xbx\\xcrpng_xbrxml_1.py\"])\n",
    "\n",
    "# # Esperar un poco y accionar la tecla (en la ventana activa)\n",
    "# time.sleep(2)\n",
    "# pyautogui.press('enter')\n"
   ]
  },
  {
   "cell_type": "markdown",
   "id": "c07af5ba",
   "metadata": {},
   "source": [
    "### ***`TRANSFORMACION`*** "
   ]
  },
  {
   "cell_type": "code",
   "execution_count": null,
   "id": "1c196191",
   "metadata": {},
   "outputs": [],
   "source": [
    "\n",
    "# Ejecutar el script\n",
    "subprocess.run([\"python\", r\"F:\\00Proyecto_final\\Scripts\\modelos_xbx\\Eda_xbrxml.py\"])\n",
    "\n",
    "# Esperar un poco y accionar la tecla (en la ventana activa)\n",
    "time.sleep(2)\n",
    "pyautogui.press('enter')\n"
   ]
  },
  {
   "cell_type": "markdown",
   "id": "ba663389",
   "metadata": {},
   "source": [
    "### ***MODELO***\n",
    "joblib.dump(model, r\"F:\\00Proyecto_final\\Scripts\\modelos_xbx\\modelo_xbrxml.pkl\")\n",
    "\n",
    "#%ip install scikit-learn==1.3.0\n"
   ]
  },
  {
   "cell_type": "code",
   "execution_count": null,
   "id": "cd7027db",
   "metadata": {},
   "outputs": [],
   "source": [
    "\n",
    "# subprocess.run([\"python\", r\"F:\\00Proyecto_final\\Scripts\\modelos_xbx\\Modelo_xbrxml.py\"])\n",
    "\n",
    "# # Esperar un poco y accionar la tecla (en la ventana activa)\n",
    "# time.sleep(2)\n",
    "# pyautogui.press('enter')"
   ]
  },
  {
   "cell_type": "markdown",
   "id": "e81816e2",
   "metadata": {},
   "source": [
    "### `***NUEVOS DATOS***`"
   ]
  },
  {
   "cell_type": "code",
   "execution_count": 2,
   "id": "31bbd468",
   "metadata": {},
   "outputs": [],
   "source": [
    "import subprocess\n",
    "import time\n",
    "import pyautogui\n",
    "import pandas as pd\n"
   ]
  },
  {
   "cell_type": "markdown",
   "id": "8e166b0b",
   "metadata": {},
   "source": []
  },
  {
   "cell_type": "code",
   "execution_count": 5,
   "id": "f2ede576",
   "metadata": {},
   "outputs": [
    {
     "name": "stdout",
     "output_type": "stream",
     "text": [
      "Requirement already satisfied: scikit-learn in c:\\users\\xemie\\anaconda3xmn\\lib\\site-packages (1.7.0)Note: you may need to restart the kernel to use updated packages.\n",
      "\n",
      "Requirement already satisfied: numpy>=1.22.0 in c:\\users\\xemie\\anaconda3xmn\\lib\\site-packages (from scikit-learn) (1.26.4)\n",
      "Requirement already satisfied: scipy>=1.8.0 in c:\\users\\xemie\\anaconda3xmn\\lib\\site-packages (from scikit-learn) (1.13.1)\n",
      "Requirement already satisfied: joblib>=1.2.0 in c:\\users\\xemie\\anaconda3xmn\\lib\\site-packages (from scikit-learn) (1.4.2)\n",
      "Requirement already satisfied: threadpoolctl>=3.1.0 in c:\\users\\xemie\\anaconda3xmn\\lib\\site-packages (from scikit-learn) (3.5.0)\n"
     ]
    }
   ],
   "source": [
    "%pip install --upgrade scikit-learn"
   ]
  },
  {
   "cell_type": "code",
   "execution_count": 6,
   "id": "1ac430e2",
   "metadata": {},
   "outputs": [
    {
     "name": "stdout",
     "output_type": "stream",
     "text": [
      "Collecting scikit-learn==1.3.0\n",
      "  Using cached scikit-learn-1.3.0.tar.gz (7.5 MB)\n",
      "  Installing build dependencies: started\n",
      "  Installing build dependencies: finished with status 'done'\n",
      "  Getting requirements to build wheel: started\n",
      "  Getting requirements to build wheel: finished with status 'done'\n",
      "  Preparing metadata (pyproject.toml): started\n",
      "  Preparing metadata (pyproject.toml): finished with status 'error'\n",
      "Note: you may need to restart the kernel to use updated packages.\n"
     ]
    },
    {
     "name": "stderr",
     "output_type": "stream",
     "text": [
      "  error: subprocess-exited-with-error\n",
      "  \n",
      "  × Preparing metadata (pyproject.toml) did not run successfully.\n",
      "  │ exit code: 1\n",
      "  ╰─> [33 lines of output]\n",
      "      Partial import of sklearn during the build process.\n",
      "      Traceback (most recent call last):\n",
      "        File \"c:\\Users\\Xemie\\anaconda3XMN\\Lib\\site-packages\\pip\\_vendor\\pyproject_hooks\\_in_process\\_in_process.py\", line 353, in <module>\n",
      "          main()\n",
      "        File \"c:\\Users\\Xemie\\anaconda3XMN\\Lib\\site-packages\\pip\\_vendor\\pyproject_hooks\\_in_process\\_in_process.py\", line 335, in main\n",
      "          json_out['return_val'] = hook(**hook_input['kwargs'])\n",
      "                                   ^^^^^^^^^^^^^^^^^^^^^^^^^^^^\n",
      "        File \"c:\\Users\\Xemie\\anaconda3XMN\\Lib\\site-packages\\pip\\_vendor\\pyproject_hooks\\_in_process\\_in_process.py\", line 149, in prepare_metadata_for_build_wheel\n",
      "          return hook(metadata_directory, config_settings)\n",
      "                 ^^^^^^^^^^^^^^^^^^^^^^^^^^^^^^^^^^^^^^^^^\n",
      "        File \"C:\\Users\\Xemie\\AppData\\Local\\Temp\\pip-build-env-pvxn3yj7\\overlay\\Lib\\site-packages\\setuptools\\build_meta.py\", line 374, in prepare_metadata_for_build_wheel\n",
      "          self.run_setup()\n",
      "        File \"C:\\Users\\Xemie\\AppData\\Local\\Temp\\pip-build-env-pvxn3yj7\\overlay\\Lib\\site-packages\\setuptools\\build_meta.py\", line 512, in run_setup\n",
      "          super().run_setup(setup_script=setup_script)\n",
      "        File \"C:\\Users\\Xemie\\AppData\\Local\\Temp\\pip-build-env-pvxn3yj7\\overlay\\Lib\\site-packages\\setuptools\\build_meta.py\", line 317, in run_setup\n",
      "          exec(code, locals())\n",
      "        File \"<string>\", line 626, in <module>\n",
      "        File \"<string>\", line 620, in setup_package\n",
      "        File \"<string>\", line 554, in configure_extension_modules\n",
      "        File \"C:\\Users\\Xemie\\AppData\\Local\\Temp\\pip-install-q4g0a39n\\scikit-learn_bacdf6a5e2874498be272aee9056959c\\sklearn\\_build_utils\\__init__.py\", line 46, in cythonize_extensions\n",
      "          basic_check_build()\n",
      "        File \"C:\\Users\\Xemie\\AppData\\Local\\Temp\\pip-install-q4g0a39n\\scikit-learn_bacdf6a5e2874498be272aee9056959c\\sklearn\\_build_utils\\pre_build_helpers.py\", line 73, in basic_check_build\n",
      "          compile_test_program(code)\n",
      "        File \"C:\\Users\\Xemie\\AppData\\Local\\Temp\\pip-install-q4g0a39n\\scikit-learn_bacdf6a5e2874498be272aee9056959c\\sklearn\\_build_utils\\pre_build_helpers.py\", line 31, in compile_test_program\n",
      "          ccompiler.compile(\n",
      "        File \"C:\\Users\\Xemie\\AppData\\Local\\Temp\\pip-build-env-pvxn3yj7\\overlay\\Lib\\site-packages\\setuptools\\_distutils\\compilers\\C\\msvc.py\", line 384, in compile\n",
      "          self.initialize()\n",
      "        File \"C:\\Users\\Xemie\\AppData\\Local\\Temp\\pip-build-env-pvxn3yj7\\overlay\\Lib\\site-packages\\setuptools\\_distutils\\compilers\\C\\msvc.py\", line 294, in initialize\n",
      "          vc_env = _get_vc_env(plat_spec)\n",
      "                   ^^^^^^^^^^^^^^^^^^^^^^\n",
      "        File \"C:\\Users\\Xemie\\AppData\\Local\\Temp\\pip-build-env-pvxn3yj7\\overlay\\Lib\\site-packages\\setuptools\\_distutils\\compilers\\C\\msvc.py\", line 155, in _get_vc_env\n",
      "          raise DistutilsPlatformError(\n",
      "      distutils.errors.DistutilsPlatformError: Microsoft Visual C++ 14.0 or greater is required. Get it with \"Microsoft C++ Build Tools\": https://visualstudio.microsoft.com/visual-cpp-build-tools/\n",
      "      [end of output]\n",
      "  \n",
      "  note: This error originates from a subprocess, and is likely not a problem with pip.\n",
      "error: metadata-generation-failed\n",
      "\n",
      "× Encountered error while generating package metadata.\n",
      "╰─> See above for output.\n",
      "\n",
      "note: This is an issue with the package mentioned above, not pip.\n",
      "hint: See above for details.\n"
     ]
    }
   ],
   "source": [
    "%pip install scikit-learn==1.3.0"
   ]
  },
  {
   "cell_type": "markdown",
   "id": "5e9da95e",
   "metadata": {},
   "source": []
  },
  {
   "cell_type": "code",
   "execution_count": 7,
   "id": "4c9c5cfb",
   "metadata": {},
   "outputs": [
    {
     "name": "stderr",
     "output_type": "stream",
     "text": [
      "c:\\Users\\Xemie\\anaconda3XMN\\Lib\\site-packages\\sklearn\\base.py:440: InconsistentVersionWarning: Trying to unpickle estimator OneHotEncoder from version 1.6.1 when using version 1.7.0. This might lead to breaking code or invalid results. Use at your own risk. For more info please refer to:\n",
      "https://scikit-learn.org/stable/model_persistence.html#security-maintainability-limitations\n",
      "  warnings.warn(\n"
     ]
    }
   ],
   "source": [
    "import pickle\n",
    "with open(r\"F:\\00Proyecto_final\\Scripts\\modelos_xbx\\modelo_xbrxml.pkl\", 'rb') as f:\n",
    "    modelo = pickle.load(f)"
   ]
  },
  {
   "cell_type": "code",
   "execution_count": 9,
   "id": "d89cc602",
   "metadata": {},
   "outputs": [
    {
     "name": "stdout",
     "output_type": "stream",
     "text": [
      "❌ Error: Can't get attribute '_RemainderColsList' on <module 'sklearn.compose._column_transformer' from 'c:\\\\Users\\\\Xemie\\\\anaconda3XMN\\\\Lib\\\\site-packages\\\\sklearn\\\\compose\\\\_column_transformer.py'>\n",
      "💾 Datos guardados en CSV\n"
     ]
    }
   ],
   "source": [
    "import pandas as pd\n",
    "import time\n",
    "import pyautogui\n",
    "from joblib import load\n",
    "import os\n",
    "\n",
    "# Crear datos (tu código original)\n",
    "nuevos_datos = pd.DataFrame({\n",
    "    'Título': ['iPhone 14 Pro Max', 'Samsung Galaxy S22'],\n",
    "    'Precio': [None, None],\n",
    "    'URL': ['https://ejemplo.com/iphone', 'https://ejemplo.com/samsung'],\n",
    "    'Imagen': ['https://img.com/iphone.jpg', 'https://img.com/samsung.jpg'],\n",
    "    'marca': ['Apple', 'Samsung'],\n",
    "    'marca_categoria': ['Smartphone', 'Smartphone'],\n",
    "    'marca_caracteristicas': ['256GB, Negro, OLED', '128GB, Blanco, AMOLED'],\n",
    "    'marca_confianza': [0.95, 0.88],\n",
    "    'marca_alternativas': ['iPhone 13 Pro', 'Galaxy S21']\n",
    "})\n",
    "\n",
    "# Cargar modelo con manejo de errores\n",
    "try:\n",
    "    modelo = load(r\"F:\\00Proyecto_final\\Scripts\\modelos_xbx\\modelo_xbrxml.pkl\")\n",
    "    \n",
    "    # Predecir (ajustar columnas según tu modelo)\n",
    "    X = nuevos_datos.drop(columns=['Precio', 'Título', 'URL', 'Imagen'])\n",
    "    predicciones = modelo.predict(X)\n",
    "    nuevos_datos['Precio_Predicho'] = predicciones\n",
    "    \n",
    "    print(\"✅ Predicciones realizadas:\")\n",
    "    for titulo, precio in zip(nuevos_datos['Título'], predicciones):\n",
    "        print(f\"  {titulo}: €{precio:.2f}\")\n",
    "        \n",
    "except Exception as e:\n",
    "    print(f\"❌ Error: {e}\")\n",
    "\n",
    "# Pausa y tecla\n",
    "time.sleep(2)\n",
    "pyautogui.press('enter')\n",
    "\n",
    "# Guardar\n",
    "os.makedirs(os.path.dirname(r\"F:\\00Proyecto_final\\Scripts\\modelos_xbx\\Modelo_wallapop.csv\"), exist_ok=True)\n",
    "nuevos_datos.to_csv(r\"F:\\00Proyecto_final\\Scripts\\modelos_xbx\\Modelo_wallapop.csv\", index=False)\n",
    "print(\"💾 Datos guardados en CSV\")"
   ]
  },
  {
   "cell_type": "code",
   "execution_count": 10,
   "id": "8875137b",
   "metadata": {},
   "outputs": [],
   "source": [
    "\n",
    "# Simular datos nuevos (si no están definidos antes)\n",
    "nuevos_datos = pd.DataFrame({\n",
    "    'Título': ['iPhone 14 Pro Max', 'Samsung Galaxy S22'],\n",
    "    'Precio': [None, None],\n",
    "    'URL': ['https://ejemplo.com/iphone', 'https://ejemplo.com/samsung'],\n",
    "    'Imagen': ['https://img.com/iphone.jpg', 'https://img.com/samsung.jpg'],\n",
    "    'marca': ['Apple', 'Samsung'],\n",
    "    'marca_categoria': ['Smartphone', 'Smartphone'],\n",
    "    'marca_caracteristicas': ['256GB, Negro, OLED', '128GB, Blanco, AMOLED'],\n",
    "    'marca_confianza': [0.95, 0.88],\n",
    "    'marca_alternativas': ['iPhone 13 Pro', 'Galaxy S21']\n",
    "})\n",
    "\n",
    "# Ejecutar el script externo\n",
    "#subprocess.run([\"python\", r\"F:\\00Proyecto_final\\Scripts\\modelos_xbx\\Modelo_xbrxml.py\"])\n",
    "\n",
    "# Pausa y pulsación de tecla\n",
    "time.sleep(2)\n",
    "pyautogui.press('enter')\n",
    "\n",
    "# Guardar los nuevos datos en CSV\n",
    "nuevos_datos.to_csv(r\"F:\\00Proyecto_final\\Scripts\\modelos_xbx\\Modelo_wallapop.csv\", index=False)\n"
   ]
  },
  {
   "cell_type": "code",
   "execution_count": 1,
   "id": "9d10be2d",
   "metadata": {},
   "outputs": [],
   "source": [
    "import pandas as pd\n",
    "\n",
    "nuevos_datos = pd.DataFrame({\n",
    "    'Título': ['iPhone 14 Pro Max', 'Samsung Galaxy S22'],\n",
    "    'Precio': [None, None],  # será predicho\n",
    "    'URL': ['https://ejemplo.com/iphone', 'https://ejemplo.com/samsung'],\n",
    "    'Imagen': ['https://img.com/iphone.jpg', 'https://img.com/samsung.jpg'],\n",
    "    'marca': ['Apple', 'Samsung'],\n",
    "    'marca_categoria': ['Smartphone', 'Smartphone'],\n",
    "    'marca_caracteristicas': ['256GB, Negro, OLED', '128GB, Blanco, AMOLED'],\n",
    "    'marca_confianza': [0.95, 0.88],\n",
    "    'marca_alternativas': ['iPhone 13 Pro', 'Galaxy S21']\n",
    "})\n"
   ]
  },
  {
   "cell_type": "markdown",
   "id": "edf0968a",
   "metadata": {},
   "source": []
  },
  {
   "cell_type": "code",
   "execution_count": null,
   "id": "106aa047",
   "metadata": {},
   "outputs": [
    {
     "name": "stdout",
     "output_type": "stream",
     "text": [
      "Requirement already satisfied: scikit-learn in c:\\users\\xemie\\anaconda3xmn\\lib\\site-packages (1.7.0)\n",
      "Requirement already satisfied: numpy>=1.22.0 in c:\\users\\xemie\\anaconda3xmn\\lib\\site-packages (from scikit-learn) (1.26.4)\n",
      "Requirement already satisfied: scipy>=1.8.0 in c:\\users\\xemie\\anaconda3xmn\\lib\\site-packages (from scikit-learn) (1.13.1)\n",
      "Requirement already satisfied: joblib>=1.2.0 in c:\\users\\xemie\\anaconda3xmn\\lib\\site-packages (from scikit-learn) (1.4.2)\n",
      "Requirement already satisfied: threadpoolctl>=3.1.0 in c:\\users\\xemie\\anaconda3xmn\\lib\\site-packages (from scikit-learn) (3.5.0)\n",
      "Note: you may need to restart the kernel to use updated packages.\n"
     ]
    }
   ],
   "source": [
    "#%ip install scikit-learn==1.3.0\n"
   ]
  },
  {
   "cell_type": "code",
   "execution_count": 11,
   "id": "004f9820",
   "metadata": {},
   "outputs": [
    {
     "ename": "AttributeError",
     "evalue": "Can't get attribute '_RemainderColsList' on <module 'sklearn.compose._column_transformer' from 'c:\\\\Users\\\\Xemie\\\\anaconda3XMN\\\\Lib\\\\site-packages\\\\sklearn\\\\compose\\\\_column_transformer.py'>",
     "output_type": "error",
     "traceback": [
      "\u001b[1;31m---------------------------------------------------------------------------\u001b[0m",
      "\u001b[1;31mAttributeError\u001b[0m                            Traceback (most recent call last)",
      "Cell \u001b[1;32mIn[11], line 5\u001b[0m\n\u001b[0;32m      2\u001b[0m \u001b[38;5;28;01mimport\u001b[39;00m \u001b[38;5;21;01mpandas\u001b[39;00m \u001b[38;5;28;01mas\u001b[39;00m \u001b[38;5;21;01mpd\u001b[39;00m\n\u001b[0;32m      4\u001b[0m \u001b[38;5;66;03m# Cargar el modelo entrenado\u001b[39;00m\n\u001b[1;32m----> 5\u001b[0m modelo \u001b[38;5;241m=\u001b[39m load(\u001b[38;5;124mr\u001b[39m\u001b[38;5;124m\"\u001b[39m\u001b[38;5;124mF:\u001b[39m\u001b[38;5;124m\\\u001b[39m\u001b[38;5;124m00Proyecto_final\u001b[39m\u001b[38;5;124m\\\u001b[39m\u001b[38;5;124mScripts\u001b[39m\u001b[38;5;124m\\\u001b[39m\u001b[38;5;124mmodelos_xbx\u001b[39m\u001b[38;5;124m\\\u001b[39m\u001b[38;5;124mmodelo_xbrxml.pkl\u001b[39m\u001b[38;5;124m\"\u001b[39m)\n\u001b[0;32m      7\u001b[0m \u001b[38;5;66;03m# Definir datos nuevos\u001b[39;00m\n\u001b[0;32m      8\u001b[0m nuevos_datos \u001b[38;5;241m=\u001b[39m pd\u001b[38;5;241m.\u001b[39mDataFrame({\n\u001b[0;32m      9\u001b[0m     \u001b[38;5;124m'\u001b[39m\u001b[38;5;124mTítulo\u001b[39m\u001b[38;5;124m'\u001b[39m: [\u001b[38;5;124m'\u001b[39m\u001b[38;5;124miPhone 14 Pro Max\u001b[39m\u001b[38;5;124m'\u001b[39m],\n\u001b[0;32m     10\u001b[0m     \u001b[38;5;124m'\u001b[39m\u001b[38;5;124mPrecio\u001b[39m\u001b[38;5;124m'\u001b[39m: [\u001b[38;5;28;01mNone\u001b[39;00m],\n\u001b[1;32m   (...)\u001b[0m\n\u001b[0;32m     17\u001b[0m     \u001b[38;5;124m'\u001b[39m\u001b[38;5;124mmarca_alternativas\u001b[39m\u001b[38;5;124m'\u001b[39m: [\u001b[38;5;124m'\u001b[39m\u001b[38;5;124miPhone 13 Pro\u001b[39m\u001b[38;5;124m'\u001b[39m]\n\u001b[0;32m     18\u001b[0m })\n",
      "File \u001b[1;32mc:\\Users\\Xemie\\anaconda3XMN\\Lib\\site-packages\\joblib\\numpy_pickle.py:658\u001b[0m, in \u001b[0;36mload\u001b[1;34m(filename, mmap_mode)\u001b[0m\n\u001b[0;32m    652\u001b[0m             \u001b[38;5;28;01mif\u001b[39;00m \u001b[38;5;28misinstance\u001b[39m(fobj, \u001b[38;5;28mstr\u001b[39m):\n\u001b[0;32m    653\u001b[0m                 \u001b[38;5;66;03m# if the returned file object is a string, this means we\u001b[39;00m\n\u001b[0;32m    654\u001b[0m                 \u001b[38;5;66;03m# try to load a pickle file generated with an version of\u001b[39;00m\n\u001b[0;32m    655\u001b[0m                 \u001b[38;5;66;03m# Joblib so we load it with joblib compatibility function.\u001b[39;00m\n\u001b[0;32m    656\u001b[0m                 \u001b[38;5;28;01mreturn\u001b[39;00m load_compatibility(fobj)\n\u001b[1;32m--> 658\u001b[0m             obj \u001b[38;5;241m=\u001b[39m _unpickle(fobj, filename, mmap_mode)\n\u001b[0;32m    659\u001b[0m \u001b[38;5;28;01mreturn\u001b[39;00m obj\n",
      "File \u001b[1;32mc:\\Users\\Xemie\\anaconda3XMN\\Lib\\site-packages\\joblib\\numpy_pickle.py:577\u001b[0m, in \u001b[0;36m_unpickle\u001b[1;34m(fobj, filename, mmap_mode)\u001b[0m\n\u001b[0;32m    575\u001b[0m obj \u001b[38;5;241m=\u001b[39m \u001b[38;5;28;01mNone\u001b[39;00m\n\u001b[0;32m    576\u001b[0m \u001b[38;5;28;01mtry\u001b[39;00m:\n\u001b[1;32m--> 577\u001b[0m     obj \u001b[38;5;241m=\u001b[39m unpickler\u001b[38;5;241m.\u001b[39mload()\n\u001b[0;32m    578\u001b[0m     \u001b[38;5;28;01mif\u001b[39;00m unpickler\u001b[38;5;241m.\u001b[39mcompat_mode:\n\u001b[0;32m    579\u001b[0m         warnings\u001b[38;5;241m.\u001b[39mwarn(\u001b[38;5;124m\"\u001b[39m\u001b[38;5;124mThe file \u001b[39m\u001b[38;5;124m'\u001b[39m\u001b[38;5;132;01m%s\u001b[39;00m\u001b[38;5;124m'\u001b[39m\u001b[38;5;124m has been generated with a \u001b[39m\u001b[38;5;124m\"\u001b[39m\n\u001b[0;32m    580\u001b[0m                       \u001b[38;5;124m\"\u001b[39m\u001b[38;5;124mjoblib version less than 0.10. \u001b[39m\u001b[38;5;124m\"\u001b[39m\n\u001b[0;32m    581\u001b[0m                       \u001b[38;5;124m\"\u001b[39m\u001b[38;5;124mPlease regenerate this pickle file.\u001b[39m\u001b[38;5;124m\"\u001b[39m\n\u001b[0;32m    582\u001b[0m                       \u001b[38;5;241m%\u001b[39m filename,\n\u001b[0;32m    583\u001b[0m                       \u001b[38;5;167;01mDeprecationWarning\u001b[39;00m, stacklevel\u001b[38;5;241m=\u001b[39m\u001b[38;5;241m3\u001b[39m)\n",
      "File \u001b[1;32mc:\\Users\\Xemie\\anaconda3XMN\\Lib\\pickle.py:1255\u001b[0m, in \u001b[0;36m_Unpickler.load\u001b[1;34m(self)\u001b[0m\n\u001b[0;32m   1253\u001b[0m             \u001b[38;5;28;01mraise\u001b[39;00m \u001b[38;5;167;01mEOFError\u001b[39;00m\n\u001b[0;32m   1254\u001b[0m         \u001b[38;5;28;01massert\u001b[39;00m \u001b[38;5;28misinstance\u001b[39m(key, bytes_types)\n\u001b[1;32m-> 1255\u001b[0m         dispatch[key[\u001b[38;5;241m0\u001b[39m]](\u001b[38;5;28mself\u001b[39m)\n\u001b[0;32m   1256\u001b[0m \u001b[38;5;28;01mexcept\u001b[39;00m _Stop \u001b[38;5;28;01mas\u001b[39;00m stopinst:\n\u001b[0;32m   1257\u001b[0m     \u001b[38;5;28;01mreturn\u001b[39;00m stopinst\u001b[38;5;241m.\u001b[39mvalue\n",
      "File \u001b[1;32mc:\\Users\\Xemie\\anaconda3XMN\\Lib\\pickle.py:1580\u001b[0m, in \u001b[0;36m_Unpickler.load_stack_global\u001b[1;34m(self)\u001b[0m\n\u001b[0;32m   1578\u001b[0m \u001b[38;5;28;01mif\u001b[39;00m \u001b[38;5;28mtype\u001b[39m(name) \u001b[38;5;129;01mis\u001b[39;00m \u001b[38;5;129;01mnot\u001b[39;00m \u001b[38;5;28mstr\u001b[39m \u001b[38;5;129;01mor\u001b[39;00m \u001b[38;5;28mtype\u001b[39m(module) \u001b[38;5;129;01mis\u001b[39;00m \u001b[38;5;129;01mnot\u001b[39;00m \u001b[38;5;28mstr\u001b[39m:\n\u001b[0;32m   1579\u001b[0m     \u001b[38;5;28;01mraise\u001b[39;00m UnpicklingError(\u001b[38;5;124m\"\u001b[39m\u001b[38;5;124mSTACK_GLOBAL requires str\u001b[39m\u001b[38;5;124m\"\u001b[39m)\n\u001b[1;32m-> 1580\u001b[0m \u001b[38;5;28mself\u001b[39m\u001b[38;5;241m.\u001b[39mappend(\u001b[38;5;28mself\u001b[39m\u001b[38;5;241m.\u001b[39mfind_class(module, name))\n",
      "File \u001b[1;32mc:\\Users\\Xemie\\anaconda3XMN\\Lib\\pickle.py:1623\u001b[0m, in \u001b[0;36m_Unpickler.find_class\u001b[1;34m(self, module, name)\u001b[0m\n\u001b[0;32m   1621\u001b[0m \u001b[38;5;28m__import__\u001b[39m(module, level\u001b[38;5;241m=\u001b[39m\u001b[38;5;241m0\u001b[39m)\n\u001b[0;32m   1622\u001b[0m \u001b[38;5;28;01mif\u001b[39;00m \u001b[38;5;28mself\u001b[39m\u001b[38;5;241m.\u001b[39mproto \u001b[38;5;241m>\u001b[39m\u001b[38;5;241m=\u001b[39m \u001b[38;5;241m4\u001b[39m:\n\u001b[1;32m-> 1623\u001b[0m     \u001b[38;5;28;01mreturn\u001b[39;00m _getattribute(sys\u001b[38;5;241m.\u001b[39mmodules[module], name)[\u001b[38;5;241m0\u001b[39m]\n\u001b[0;32m   1624\u001b[0m \u001b[38;5;28;01melse\u001b[39;00m:\n\u001b[0;32m   1625\u001b[0m     \u001b[38;5;28;01mreturn\u001b[39;00m \u001b[38;5;28mgetattr\u001b[39m(sys\u001b[38;5;241m.\u001b[39mmodules[module], name)\n",
      "File \u001b[1;32mc:\\Users\\Xemie\\anaconda3XMN\\Lib\\pickle.py:326\u001b[0m, in \u001b[0;36m_getattribute\u001b[1;34m(obj, name)\u001b[0m\n\u001b[0;32m    324\u001b[0m         obj \u001b[38;5;241m=\u001b[39m \u001b[38;5;28mgetattr\u001b[39m(obj, subpath)\n\u001b[0;32m    325\u001b[0m     \u001b[38;5;28;01mexcept\u001b[39;00m \u001b[38;5;167;01mAttributeError\u001b[39;00m:\n\u001b[1;32m--> 326\u001b[0m         \u001b[38;5;28;01mraise\u001b[39;00m \u001b[38;5;167;01mAttributeError\u001b[39;00m(\u001b[38;5;124m\"\u001b[39m\u001b[38;5;124mCan\u001b[39m\u001b[38;5;124m'\u001b[39m\u001b[38;5;124mt get attribute \u001b[39m\u001b[38;5;132;01m{!r}\u001b[39;00m\u001b[38;5;124m on \u001b[39m\u001b[38;5;132;01m{!r}\u001b[39;00m\u001b[38;5;124m\"\u001b[39m\n\u001b[0;32m    327\u001b[0m                              \u001b[38;5;241m.\u001b[39mformat(name, top)) \u001b[38;5;28;01mfrom\u001b[39;00m \u001b[38;5;28;01mNone\u001b[39;00m\n\u001b[0;32m    328\u001b[0m \u001b[38;5;28;01mreturn\u001b[39;00m obj, parent\n",
      "\u001b[1;31mAttributeError\u001b[0m: Can't get attribute '_RemainderColsList' on <module 'sklearn.compose._column_transformer' from 'c:\\\\Users\\\\Xemie\\\\anaconda3XMN\\\\Lib\\\\site-packages\\\\sklearn\\\\compose\\\\_column_transformer.py'>"
     ]
    }
   ],
   "source": [
    "from joblib import load\n",
    "import pandas as pd\n",
    "\n",
    "# Cargar el modelo entrenado\n",
    "modelo = load(r\"F:\\00Proyecto_final\\Scripts\\modelos_xbx\\modelo_xbrxml.pkl\")\n",
    "\n",
    "# Definir datos nuevos\n",
    "nuevos_datos = pd.DataFrame({\n",
    "    'Título': ['iPhone 14 Pro Max'],\n",
    "    'Precio': [None],\n",
    "    'URL': ['https://ejemplo.com/iphone'],\n",
    "    'Imagen': ['https://img.com/iphone.jpg'],\n",
    "    'marca': ['Apple'],\n",
    "    'marca_categoria': ['Smartphone'],\n",
    "    'marca_caracteristicas': ['256GB, Negro, OLED'],\n",
    "    'marca_confianza': [0.95],\n",
    "    'marca_alternativas': ['iPhone 13 Pro']\n",
    "})\n",
    "\n",
    "# Predecir\n",
    "predicciones = modelo.predict(nuevos_datos.drop(columns=['Precio']))\n",
    "nuevos_datos['Precio_Predicho'] = predicciones\n",
    "\n",
    "# Guardar resultado\n",
    "nuevos_datos.to_csv(\"Modelo_resultado.csv\", index=False)\n"
   ]
  }
 ],
 "metadata": {
  "kernelspec": {
   "display_name": "base",
   "language": "python",
   "name": "python3"
  },
  "language_info": {
   "codemirror_mode": {
    "name": "ipython",
    "version": 3
   },
   "file_extension": ".py",
   "mimetype": "text/x-python",
   "name": "python",
   "nbconvert_exporter": "python",
   "pygments_lexer": "ipython3",
   "version": "3.12.7"
  }
 },
 "nbformat": 4,
 "nbformat_minor": 5
}
